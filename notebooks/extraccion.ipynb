{
 "cells": [
  {
   "cell_type": "code",
   "execution_count": 1,
   "id": "8226ff9d-5b75-4eca-9f8d-19b2622a298b",
   "metadata": {},
   "outputs": [],
   "source": [
    "import warnings\n",
    "warnings.filterwarnings(action='ignore')\n",
    "from hdbcli import dbapi\n",
    "import pandas as pd\n",
    "import os\n",
    "from pathlib import Path\n",
    "import numpy as np\n",
    "import math\n",
    "from datetime import date,datetime\n",
    "pd.options.display.max_columns = 200\n",
    "pd.set_option('display.max_rows',None)"
   ]
  },
  {
   "cell_type": "code",
   "execution_count": 2,
   "id": "2b95518c-1972-4ab6-bee4-f2f954223a9f",
   "metadata": {},
   "outputs": [],
   "source": [
    "def generaCosecha(fecha):\n",
    "    '''\n",
    "    El parámetro de entrada es una fecha (datetime), y retorna un String con formato YYYYmm, \n",
    "    útil para hacer analisis de cosechas:\n",
    "    Ejemplo:\n",
    "    generaCosecha(date(2024,1,23)) ------>  '202401'\n",
    "    \n",
    "    '''\n",
    "    if not isinstance(fecha, date):\n",
    "        raise ValueError(\"La entrada debe ser un objeto de tipo date.\")\n",
    "    cosecha = fecha.strftime(\"%Y%m\")\n",
    "    return cosecha"
   ]
  },
  {
   "cell_type": "code",
   "execution_count": 7,
   "id": "8c87b547-beb6-4dee-8380-53eb64dc3aab",
   "metadata": {},
   "outputs": [],
   "source": [
    "def obtener_rutas_usuario(base_local: Path = None, base_remoto: str = None, usar_remoto: bool = False):\n",
    "    \"\"\"\n",
    "    Devuelve las rutas de datos para el usuario actual, usando pathlib.\n",
    "    Ajusta la ruta si estás ejecutando desde 'notebooks/', considerando la ruta relativa.\n",
    "\n",
    "    Parámetros:\n",
    "    - base_local: ruta base local donde se encuentran los datos, considerando la estructura cookiecutter (por defecto: '../data/')\n",
    "    - base_remoto: ruta base remota tipo GCP, cuando estas en la VM\n",
    "    - usar_remoto: True para rutas de cloud (base_remoto), False para rutas locales (base_local)\n",
    "\n",
    "    Retorna:\n",
    "    - dict con rutas: rawData, externalData, interimData, processedData\n",
    "    \"\"\"\n",
    "    if base_local is None:\n",
    "        try:\n",
    "            base_local = Path(__file__).resolve().parent.parent / 'data'\n",
    "        except NameError:\n",
    "            base_local = Path.cwd()\n",
    "            if 'notebooks' in base_local.parts:\n",
    "                base_local = base_local.parent\n",
    "            base_local = base_local / 'data'\n",
    "\n",
    "    if base_remoto is None:\n",
    "        base_remoto = 'gs://default-bucket/ScoreCI'\n",
    "\n",
    "    if usar_remoto:\n",
    "        rutas = {\n",
    "            'rawData': f'{base_remoto}/raw/',\n",
    "            'externalData': f'{base_remoto}/external/',\n",
    "            'interimData': f'{base_remoto}/interim/',\n",
    "            'processedData': f'{base_remoto}/processed/'\n",
    "        }\n",
    "    else:\n",
    "        rutas = {\n",
    "            'rawData': base_local / 'raw',\n",
    "            'externalData': base_local / 'external',\n",
    "            'interimData': base_local / 'interim',\n",
    "            'processedData': base_local / 'processed'\n",
    "        }\n",
    "\n",
    "    return rutas"
   ]
  },
  {
   "cell_type": "code",
   "execution_count": 8,
   "id": "16300ac5-542b-48e3-be00-b25e604ed4ca",
   "metadata": {},
   "outputs": [],
   "source": [
    "rutas = obtener_rutas_usuario()"
   ]
  },
  {
   "cell_type": "code",
   "execution_count": 9,
   "id": "1249d8a3-0dbd-41fd-a36f-b7002fb7de3f",
   "metadata": {},
   "outputs": [
    {
     "data": {
      "text/plain": [
       "{'rawData': WindowsPath('D:/Users/antmiguel/Repos/ent-sandbox-fdo-jupyter-repository/ScoreCI/data/raw'),\n",
       " 'externalData': WindowsPath('D:/Users/antmiguel/Repos/ent-sandbox-fdo-jupyter-repository/ScoreCI/data/external'),\n",
       " 'interimData': WindowsPath('D:/Users/antmiguel/Repos/ent-sandbox-fdo-jupyter-repository/ScoreCI/data/interim'),\n",
       " 'processedData': WindowsPath('D:/Users/antmiguel/Repos/ent-sandbox-fdo-jupyter-repository/ScoreCI/data/processed')}"
      ]
     },
     "execution_count": 9,
     "metadata": {},
     "output_type": "execute_result"
    }
   ],
   "source": [
    "rutas"
   ]
  },
  {
   "cell_type": "code",
   "execution_count": 3,
   "id": "4896fd81-3ea8-4cb4-942a-7f68246880f0",
   "metadata": {},
   "outputs": [],
   "source": [
    "usuario='UP_BA_ANTMIGUEL'\n",
    "pssw='N2F1D#o0--'\n",
    "con=dbapi.connect(address='DAIRA', port=30015, user= usuario, password=pssw)\n",
    "cursor = con.cursor()"
   ]
  },
  {
   "cell_type": "code",
   "execution_count": 41,
   "id": "9e32a242-ea88-4716-ad57-e83322559e7f",
   "metadata": {},
   "outputs": [],
   "source": [
    "query = '''\n",
    "select * from CLIENTES_CI\n",
    "'''"
   ]
  },
  {
   "cell_type": "code",
   "execution_count": 42,
   "id": "2006123e-299f-4f10-9af2-8b9c06326979",
   "metadata": {},
   "outputs": [],
   "source": [
    "df=pd.read_sql_query(query,con=con)"
   ]
  },
  {
   "cell_type": "code",
   "execution_count": 43,
   "id": "c9a32156-e57f-4307-8b56-f0b268bd5966",
   "metadata": {},
   "outputs": [
    {
     "data": {
      "text/plain": [
       "(836194, 32)"
      ]
     },
     "execution_count": 43,
     "metadata": {},
     "output_type": "execute_result"
    }
   ],
   "source": [
    "df.shape"
   ]
  },
  {
   "cell_type": "code",
   "execution_count": 44,
   "id": "def3feed-9ab5-4e7c-87bb-5792a5c4a7ee",
   "metadata": {},
   "outputs": [],
   "source": [
    "df.to_parquet(os.path.join(rutas.get('rawData'),'ScoreCI_raw_BaseAnaliticaCliente_ScoreCI_02062025_abr25v6.parquet'), index=False)"
   ]
  },
  {
   "cell_type": "code",
   "execution_count": null,
   "id": "ae6f8cf4-9225-46bd-bc99-ad69e82c65ef",
   "metadata": {},
   "outputs": [],
   "source": [
    "CLIENTES_CI:\n",
    "ScoreCI_raw_BaseAnaliticaCliente_ScoreCI_02062025_abr25v6\n",
    "\n",
    "ASESORESF:\n",
    "ScoreCI_raw_BaseAnaliticaAsesor_ScoreCI_02062025_abr25v6"
   ]
  },
  {
   "cell_type": "code",
   "execution_count": null,
   "id": "c67465a4-407b-4adf-b054-04249e9bc57d",
   "metadata": {},
   "outputs": [],
   "source": [
    "df['CONTRACT_START_DT'] = pd.to_datetime(df['CONTRACT_START_DT'], errors='coerce')\n",
    "df['POSITION_START_DT'] = pd.to_datetime(df['POSITION_START_DT'], errors='coerce')\n",
    "df['EMPLOYEE_AGREEMENT_DT'] = pd.to_datetime(df['EMPLOYEE_AGREEMENT_DT'], errors='coerce')\n",
    "df['EMPLOYEE_FIRST_AGREEMENT_DT'] = pd.to_datetime(df['EMPLOYEE_FIRST_AGREEMENT_DT'], errors='coerce')\n",
    "df['EMPLOYEE_STATUS_START_DT'] = pd.to_datetime(df['EMPLOYEE_STATUS_START_DT'], errors='coerce')\n",
    "df['CONTRACT_BAL_START_DT'] = pd.to_datetime(df['CONTRACT_BAL_START_DT'], errors='coerce')\n",
    "df['CONTRACT_BAL_END_DT'] = pd.to_datetime(df['CONTRACT_BAL_END_DT'], errors='coerce')\n",
    "df['CORTE'] = pd.to_datetime(df['CORTE'], errors='coerce')"
   ]
  },
  {
   "cell_type": "code",
   "execution_count": null,
   "id": "4332a8aa-5789-4e33-a0af-a863eb260259",
   "metadata": {},
   "outputs": [],
   "source": [
    "ls_limites = [-math.inf, 1, 8, 60, math.inf]\n",
    "ls_etiquetas = ['a.CR0', 'b.CR1a7', 'd.CR8a60', 'e.CR60+']\n",
    "df['BUCKET_ATRASO']  = pd.cut(df['DIAS_ATRASO_ACTUAL'], bins=ls_limites, labels=ls_etiquetas, right=False)"
   ]
  },
  {
   "cell_type": "code",
   "execution_count": null,
   "id": "3a74a999-1f90-491e-aa0c-999860dfac6c",
   "metadata": {},
   "outputs": [],
   "source": [
    "df['COSECHA_CONTRATO'] = df['CONTRACT_START_DT'].apply(lambda row: generaCosecha(row))\n",
    "df['MES_CORTE'] = df['CORTE'].apply(lambda row: generaCosecha(row))"
   ]
  },
  {
   "cell_type": "code",
   "execution_count": null,
   "id": "553a48cc-44e5-4a67-8827-48af5404f9ca",
   "metadata": {},
   "outputs": [],
   "source": [
    "pd.pivot_table(\n",
    "    data=df,\n",
    "    index='COSECHA',\n",
    "    columns='MES_CORTE',\n",
    "    values = ['MONTO_CARTERA'],\n",
    "    aggfunc={'MONTO_CARTERA':'sum'},\n",
    "    fill_value=0\n",
    ").reset_index().to_clipboard()"
   ]
  },
  {
   "cell_type": "code",
   "execution_count": null,
   "id": "5e67a0a2-e385-4a69-bde0-9dd71fe0b041",
   "metadata": {},
   "outputs": [],
   "source": [
    "df.groupby('COSECHA')['ASESOR_CORTE'].nunique()"
   ]
  },
  {
   "cell_type": "code",
   "execution_count": null,
   "id": "1036ea27-7f8c-4f1b-ab19-9e6443f7e0a1",
   "metadata": {},
   "outputs": [],
   "source": [
    "df[(df.MES_CORTE =='202412') & (df.ASESOR_CORTE==86176238)].shape"
   ]
  },
  {
   "cell_type": "code",
   "execution_count": null,
   "id": "bddafcc5-a644-4776-81d7-b879ac926b79",
   "metadata": {},
   "outputs": [],
   "source": []
  },
  {
   "cell_type": "code",
   "execution_count": null,
   "id": "a4398835-c50e-473b-b311-e93cf030b2b3",
   "metadata": {},
   "outputs": [],
   "source": [
    "pd.pivot_table(\n",
    "    data=df[df.BUCKET_ATRASO == 'd.CR8a60'],\n",
    "    index='COSECHA',\n",
    "    columns='MES_CORTE',\n",
    "    values = ['MONTO_CARTERA'],\n",
    "    aggfunc={'MONTO_CARTERA':'sum'},\n",
    "    fill_value=0\n",
    ").reset_index().to_clipboard()"
   ]
  },
  {
   "cell_type": "markdown",
   "id": "bd781ee4-8cbe-4fbe-aeba-8a4bc2eafa19",
   "metadata": {},
   "source": [
    "### contratos"
   ]
  },
  {
   "cell_type": "code",
   "execution_count": null,
   "id": "e1436e86-7b5a-407e-91d4-2c2badd2bb3c",
   "metadata": {},
   "outputs": [],
   "source": [
    "pd.pivot_table(\n",
    "    data=df,\n",
    "    index='COSECHA',\n",
    "    columns='MES_CORTE',\n",
    "    values = ['CONTRACT_ID'],\n",
    "    aggfunc={'CONTRACT_ID':'count'},\n",
    "    fill_value=0\n",
    ").reset_index().to_clipboard()"
   ]
  },
  {
   "cell_type": "code",
   "execution_count": null,
   "id": "17076a0e-832b-4618-ab71-720d5fe6e1fd",
   "metadata": {},
   "outputs": [],
   "source": [
    "pd.pivot_table(\n",
    "    data=df[df.BUCKET_ATRASO == 'd.CR8a60'],\n",
    "    index='COSECHA',\n",
    "    columns='MES_CORTE',\n",
    "    values = ['CONTRACT_ID'],\n",
    "    aggfunc={'CONTRACT_ID':'count'},\n",
    "    fill_value=0\n",
    ").reset_index().to_clipboard()"
   ]
  },
  {
   "cell_type": "code",
   "execution_count": null,
   "id": "f5f90665-60d9-43ec-8829-74fdc64483d0",
   "metadata": {},
   "outputs": [],
   "source": []
  }
 ],
 "metadata": {
  "kernelspec": {
   "display_name": "Python 3 (ipykernel)",
   "language": "python",
   "name": "python3"
  },
  "language_info": {
   "codemirror_mode": {
    "name": "ipython",
    "version": 3
   },
   "file_extension": ".py",
   "mimetype": "text/x-python",
   "name": "python",
   "nbconvert_exporter": "python",
   "pygments_lexer": "ipython3",
   "version": "3.12.7"
  }
 },
 "nbformat": 4,
 "nbformat_minor": 5
}
